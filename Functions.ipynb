{
 "cells": [
  {
   "cell_type": "markdown",
   "id": "6c4b8f93-f072-426e-90d6-b98ff7fc2360",
   "metadata": {},
   "source": [
    "Theory Questions\n",
    "\n",
    "1. What is the difference between a function and a method in Python?\n",
    "   Function : Function is a block of code which performs some specific task/computation"
   ]
  },
  {
   "cell_type": "code",
   "execution_count": null,
   "id": "bc3dd70f-b793-4af9-880a-550bb562cc39",
   "metadata": {},
   "outputs": [],
   "source": [
    "# ex:\n",
    "def greet(name):\n",
    "    return f\"Hello,{name}\"\n",
    "greet(\"dinesh\")"
   ]
  },
  {
   "cell_type": "markdown",
   "id": "c9bd37d1-a553-45c7-b515-7178c8c9b4eb",
   "metadata": {},
   "source": [
    "Method:Method is defined inside a class and is associated with instances (objects) of that class. Methods are used to perform operations on the data (attributes) of the object."
   ]
  },
  {
   "cell_type": "code",
   "execution_count": null,
   "id": "bc3bfc98-ec74-447a-b98a-0ea3e61ab92d",
   "metadata": {},
   "outputs": [],
   "source": [
    "#ex:\n",
    "class addition:\n",
    "    def add(a,b):\n",
    "        return a+b\n",
    "print(addition.add(5,3))"
   ]
  },
  {
   "cell_type": "markdown",
   "id": "987e5397-40cd-4f16-bf91-f5fe34dd6764",
   "metadata": {},
   "source": [
    "2.Explain the concept of function arguments and parameters in Python?\n",
    "parameters:\n",
    "Parameters are the variables that are listed inside the parentheses when you define a function. They act as placeholders that represent the values that will be passed to the function when it is called.\n",
    "Arguments:\n",
    "Arguments are the actual values or data that you pass to a function when calling it. They correspond to the parameters defined in the function.\n"
   ]
  },
  {
   "cell_type": "code",
   "execution_count": null,
   "id": "af78093c-469a-4800-a4a8-fb820d614e72",
   "metadata": {},
   "outputs": [],
   "source": [
    "#ex:\n",
    "def greet(name): # name is a parameter\n",
    "    return f\"hello,{name}\"\n",
    "greet(\"dinesh\") # dinesh is a argument"
   ]
  },
  {
   "cell_type": "markdown",
   "id": "50f5887d-777b-4095-b2fc-017104435e5e",
   "metadata": {},
   "source": [
    "3. What are the different ways to define and call a function in Python?"
   ]
  },
  {
   "cell_type": "code",
   "execution_count": null,
   "id": "0da93767-bf31-411e-af6d-1be5ad4b85ec",
   "metadata": {},
   "outputs": [],
   "source": [
    "#a)simple:\n",
    "def greet():\n",
    "    print(\"hello world\")\n",
    "greet()"
   ]
  },
  {
   "cell_type": "code",
   "execution_count": null,
   "id": "2c261b28-8c81-421f-8872-5bb5d4009253",
   "metadata": {},
   "outputs": [],
   "source": [
    "#b)Function with parameters:\n",
    "def greet(name):\n",
    "    print(f\"hello,{name}\")\n",
    "greet(\"dinesh\")"
   ]
  },
  {
   "cell_type": "code",
   "execution_count": null,
   "id": "9ac93719-86c6-45b5-b16e-1bd0d5ca025c",
   "metadata": {},
   "outputs": [],
   "source": [
    "#c)Function with return value:\n",
    "def greet(name):\n",
    "    return f\"hello,{name}\"\n",
    "greet(\"dinesh\")"
   ]
  },
  {
   "cell_type": "code",
   "execution_count": null,
   "id": "d1a5a846-0c82-4f45-8c04-68671d317e5c",
   "metadata": {},
   "outputs": [],
   "source": [
    "#d)Function with default parameters:\n",
    "def greet(name=\"dinesh\"):\n",
    "    return f\"hello,{name}\"\n",
    "greet()"
   ]
  },
  {
   "cell_type": "code",
   "execution_count": null,
   "id": "bcd41d35-0345-450d-8e91-bc5a32591c57",
   "metadata": {},
   "outputs": [],
   "source": [
    "greet(\"ajay\")"
   ]
  },
  {
   "cell_type": "code",
   "execution_count": null,
   "id": "226faf3e-c39a-49ae-b7cc-a4110e14dfe1",
   "metadata": {},
   "outputs": [],
   "source": [
    "#e)Function with variable length argumnets\n",
    "def add(*args):\n",
    "    return sum(args)\n",
    "add(2,3,4)"
   ]
  },
  {
   "cell_type": "code",
   "execution_count": null,
   "id": "d82b3366-d2cc-4333-af8a-f45f1de347c6",
   "metadata": {},
   "outputs": [],
   "source": [
    "def greet(**kwargs):\n",
    "    for key,value in kwargs.items():\n",
    "        return (f\"{key}:{value}\")\n",
    "\n",
    "greet(name=\"dinesh\",age=30)"
   ]
  },
  {
   "cell_type": "markdown",
   "id": "5e9092a1-0a2b-4ba8-ac40-b3e49933f967",
   "metadata": {},
   "source": [
    "4. What is the purpose of the `return' statement in a Python function? \n",
    "Purpose: The return statement sends a value from the function back to the calling code.\n",
    "Ends Function Execution: After a return statement, the function terminates, and no further code inside the function is executed.\n",
    "Returning Multiple Values: Python allows you to return multiple values, which are returned as a tuple.\n",
    "Default Return Value: If no return statement is used in a function, it implicitly returns None.\n",
    "\n",
    "5.What are iterators in Python and how do they differ from iterables?\n",
    "Iterable: An iterable is any python object/sequemtial structue/data structure that is capable of return its members one at a time.Permitting it to be iterated over in a for loop.\n",
    "ex:list, tuples.string\n"
   ]
  },
  {
   "cell_type": "code",
   "execution_count": null,
   "id": "da36c8aa-b833-420d-a172-dc7974d1ac27",
   "metadata": {},
   "outputs": [],
   "source": [
    "list=[1,2,3,4,5]\n",
    "for i in list:\n",
    "    print(i)"
   ]
  },
  {
   "cell_type": "code",
   "execution_count": null,
   "id": "69fe892b-1bf0-4b62-91f1-73c6b1dafb9c",
   "metadata": {},
   "outputs": [],
   "source": [
    "#Iterator: AN iterator is an objetc representing a stream of data and return the data one by one.\n",
    "s=\"pwskills\"\n",
    "a=iter(s)\n",
    "next (a)"
   ]
  },
  {
   "cell_type": "code",
   "execution_count": null,
   "id": "ce6951a9-6347-4d5c-8f1f-25f4d54155b2",
   "metadata": {},
   "outputs": [],
   "source": [
    "next(a)"
   ]
  },
  {
   "cell_type": "markdown",
   "id": "ddb2b40b-21fb-4e8b-8e92-872ca0db264c",
   "metadata": {},
   "source": [
    "6. Explain the concept of generators in Python and how they are defined?\n",
    "Generators are a type of iterable that allow you to iterate over a sequence of values, but they do not store the entire sequence in memory at once. Instead, they generate items one at a time using the yield keyword. This makes generators more memory-efficient, especially when working with large datasets or infinite sequences.\n"
   ]
  },
  {
   "cell_type": "code",
   "execution_count": null,
   "id": "311512af-4be2-4895-a454-d08f51ea95c8",
   "metadata": {},
   "outputs": [],
   "source": [
    "def sq_num(n):\n",
    "    for i in range(n):\n",
    "        yield i**2\n",
    "s=sq_num(3)\n",
    "next(s)    "
   ]
  },
  {
   "cell_type": "code",
   "execution_count": null,
   "id": "2eb2b51c-702d-4769-a5dd-63963382a0ea",
   "metadata": {},
   "outputs": [],
   "source": [
    "next(s)"
   ]
  },
  {
   "cell_type": "code",
   "execution_count": null,
   "id": "85c387ee-3ba0-4740-bb48-6b10b20950e9",
   "metadata": {},
   "outputs": [],
   "source": [
    "next(s)"
   ]
  },
  {
   "cell_type": "markdown",
   "id": "960dd9f0-b7a0-4453-9f9b-f73ace1557ab",
   "metadata": {},
   "source": [
    "7. What are the advantages of using generators over regular functions?\n",
    "Advantages of using generators are:\n",
    "a)Memory efficient: Generates items one at a time.\n",
    "b)Evaluation: Computes values when needed\n",
    "c)Performance: Handles large datasets\n",
    "d)Infinite sequences: suitable for generating infinite sequences\n",
    "\n",
    "8.What is a lambda function in Python and when is it typically used?\n",
    "A lambda function in Python is a small, anonymous function defined using the lambda keyword. Unlike regular functions, which are defined using the def keyword, lambda functions are typically used for short, simple operations that can be written in a single line.\n",
    "Syntax:\n",
    "lambda argumnets: expression\n"
   ]
  },
  {
   "cell_type": "code",
   "execution_count": null,
   "id": "efbe7ade-92e9-478e-ac93-d04ac940624a",
   "metadata": {},
   "outputs": [],
   "source": [
    "add=lambda x,y:x+y\n",
    "add(2,3)"
   ]
  },
  {
   "cell_type": "code",
   "execution_count": null,
   "id": "7a743aa0-3975-42b3-93bb-469b39ebdd73",
   "metadata": {},
   "outputs": [],
   "source": [
    "# use cases:\n",
    "#a) in place of small functions\n",
    "a =[1,4,10,2,3]\n",
    "sorted(a,key=lambda x:x)\n"
   ]
  },
  {
   "cell_type": "code",
   "execution_count": null,
   "id": "ef92dd05-28b5-4161-b5bd-09bf5db4208b",
   "metadata": {},
   "outputs": [],
   "source": [
    "a=[1,2,3,4,5]\n",
    "sq_num=list(map(lambda x:x**2,a)) #b) Lambda function can be used with map(),filter(),reduce()\n",
    "print(sq_num)"
   ]
  },
  {
   "cell_type": "markdown",
   "id": "d1132c9a-eb69-47ad-81a9-c585d4e8eeb8",
   "metadata": {},
   "source": [
    "9.Explain the purpose and usage of the \"map() function in Python.\n",
    "\n",
    "The map() function in Python is used to apply a given function to each item in an iterable (like a list, tuple, or string) and returns a map object (which is an iterator) that produces the results of applying the function. It is a very useful function for performing operations on all elements of an iterable without needing an explicit loop.\n",
    "\n",
    "syntax: map(function,iterable)\n",
    "\n",
    "When to Use map():\n",
    "When you need to apply a transformation (e.g., a function or a lambda) to each element of an iterable.\n",
    "When you want to avoid the verbosity of an explicit for loop.\n",
    "When working with multiple iterables simultaneously.\n",
    "\n",
    "When NOT to Use map():\n",
    "If the operation requires more complex logic or multiple steps, a regular for loop may be more readable.\n",
    "If you need to perform an operation that doesn't fit into a simple transformation of each element (e.g., more complex processing).\n"
   ]
  },
  {
   "cell_type": "code",
   "execution_count": null,
   "id": "aa150184-857a-46d4-a97f-016940a5f16f",
   "metadata": {},
   "outputs": [],
   "source": [
    "a=[1,2,3,4,5]\n",
    "sq_num=list(map(lambda x:x**2,a)) #b) Lambda function can be used with map(),filter(),reduce()\n",
    "print(sq_num)"
   ]
  },
  {
   "cell_type": "markdown",
   "id": "0d12800d-5838-4b54-81b7-c1feee266269",
   "metadata": {},
   "source": [
    "10. What is the difference between \"map()\", \"reduce()\", and \"filter() functions in Python?\n",
    "map():\n",
    "The map() function applies a given function to each item in an iterable (like a list or tuple) and returns an iterator (which can be converted into a list or other collection types). It processes each element independently, transforming each element according to the function.\n",
    "Input: one or more iterables\n",
    "output: A new iterable with transformed elements\n",
    "reduce():\n",
    "The reduce() function (from the functools module) applies a binary function (a function that takes two arguments) cumulatively to the items of an iterable, reducing the iterable to a single value.\n",
    "Input:One iterable\n",
    "Output:A single value\n",
    "filter():\n",
    "The filter() function filters elements from an iterable based on a given function that returns either True or False. Only the elements for which the function returns True are included in the result.\n",
    "Input:One iterable\n",
    "Output:A filtered iterable (only elements that satisfy the condition)\n"
   ]
  },
  {
   "cell_type": "code",
   "execution_count": null,
   "id": "07605a2b-d3b6-4312-b73a-5c8983828411",
   "metadata": {},
   "outputs": [],
   "source": [
    "#map\n",
    "a=[1,2,3,4,5]\n",
    "sq_num=list(map(lambda x:x**2,a)) #b) Lambda function can be used with map(),filter(),reduce()\n",
    "print(sq_num)"
   ]
  },
  {
   "cell_type": "code",
   "execution_count": null,
   "id": "c1b032d7-3ca5-40ae-b29a-86a48da662bd",
   "metadata": {},
   "outputs": [],
   "source": [
    "#reduce\n",
    "from functools import reduce\n",
    "reduce(lambda x,y:x+y,a)"
   ]
  },
  {
   "cell_type": "code",
   "execution_count": null,
   "id": "064af58b-0546-42f8-bb57-0c7013b2e440",
   "metadata": {},
   "outputs": [],
   "source": [
    "#filter\n",
    "list(filter(lambda x:x%2==0,a))"
   ]
  },
  {
   "cell_type": "markdown",
   "id": "dd5a24f3-0b56-425b-8a10-55d4ae1f9f7f",
   "metadata": {},
   "source": [
    "11.Using pen & Paper write the internal mechanism for sum operation using reduce function on this given list: (47,11,42,13];\n",
    "reduce(lambda x,y:x+y,(47,11,42,13))\n",
    "Internal mechanism:x=47,y=11 x+y=58 becomes x\n",
    "ii) x=58,y=42, x+y=100 becomes x\n",
    "iii)x=100, y=13, x+y=113\n"
   ]
  },
  {
   "cell_type": "code",
   "execution_count": null,
   "id": "9cd4f7c1-8db6-4294-bb01-7765aa503496",
   "metadata": {},
   "outputs": [],
   "source": [
    "reduce(lambda x,y:x+y,(47,11,42,13))"
   ]
  },
  {
   "cell_type": "markdown",
   "id": "2025052a-3dcc-4145-a67d-a7ab3950a360",
   "metadata": {},
   "source": [
    "Practical Questions\n"
   ]
  },
  {
   "cell_type": "code",
   "execution_count": null,
   "id": "afb5516a-d56b-429a-8519-4a53815d077f",
   "metadata": {},
   "outputs": [],
   "source": [
    "#1.Write a Python function that takes a list of numbers as input and returns the sum of all the even numbers in the list.\n",
    "def sum_even(a):\n",
    "    n=[]\n",
    "    for i in range(a):\n",
    "        if i%2==0:\n",
    "            n.append(i)\n",
    "    return sum(n)\n",
    "sum_even(10)\n",
    "            "
   ]
  },
  {
   "cell_type": "code",
   "execution_count": null,
   "id": "562c47e1-9448-440e-95a7-e735b5862ff4",
   "metadata": {},
   "outputs": [],
   "source": [
    "sum_even(20)"
   ]
  },
  {
   "cell_type": "code",
   "execution_count": null,
   "id": "3428b18b-f04d-4128-8f08-cf5e24f853f8",
   "metadata": {},
   "outputs": [],
   "source": [
    "#2.create a Python function that accepts a string and returns the reverse of that string.\n",
    "def rev_string(inp_string):\n",
    "    return inp_string[::-1]\n",
    "rev_string(\"dinesh\")\n"
   ]
  },
  {
   "cell_type": "code",
   "execution_count": null,
   "id": "1d265813-a4b4-4076-aa3b-a2a1b752a681",
   "metadata": {},
   "outputs": [],
   "source": [
    "#3.Implement a python function that takes a list of integers and returns a new list containing the squares of each number\n",
    "def sq_num(a):\n",
    "    n=[]\n",
    "    for i in range(a):\n",
    "        n.append(i**2)\n",
    "    return n\n",
    "sq_num(10)"
   ]
  },
  {
   "cell_type": "code",
   "execution_count": null,
   "id": "2bd4530e-5bb0-48de-9da6-4e6237ec2b06",
   "metadata": {},
   "outputs": [],
   "source": [
    "#4.Write a python function that checks if a given number is prime or not from 1 to 200\n",
    "\n",
    "def is_prime(num):\n",
    "    if num<=1:\n",
    "        return False\n",
    "    for i in range (2,num):\n",
    "        if num%i==0:\n",
    "            return False\n",
    "    return True\n",
    "def check_primes(x,y):\n",
    "    n=[]\n",
    "    for j in range(x,y+1):\n",
    "        if is_prime(j)==True:\n",
    "            n.append(j)\n",
    "    return n\n",
    "is_prime(19)\n",
    "            "
   ]
  },
  {
   "cell_type": "code",
   "execution_count": null,
   "id": "49696fe5-4f57-47cc-a7f5-3735f415cac9",
   "metadata": {},
   "outputs": [],
   "source": [
    "check_primes(1,50)"
   ]
  },
  {
   "cell_type": "code",
   "execution_count": null,
   "id": "2a3952e0-3fdc-47d1-9f25-5ec9f28b3939",
   "metadata": {},
   "outputs": [],
   "source": [
    "#5.Create an iterator class in python that generates the fibonacci sequencer upto a specified number of terms\n",
    "def fib(n):\n",
    "    a=0\n",
    "    b=1\n",
    "    for i in range (n):\n",
    "        yield a\n",
    "        (a,b)=(b,a+b)\n",
    "k=fib(7)\n",
    "next(k)"
   ]
  },
  {
   "cell_type": "code",
   "execution_count": null,
   "id": "541ffc27-91e2-46d9-9bd6-cf7394c9514f",
   "metadata": {},
   "outputs": [],
   "source": [
    "next(k)"
   ]
  },
  {
   "cell_type": "code",
   "execution_count": null,
   "id": "d3cb853d-f785-4834-9036-77bf04feb667",
   "metadata": {},
   "outputs": [],
   "source": [
    "next(k)"
   ]
  },
  {
   "cell_type": "code",
   "execution_count": null,
   "id": "63fd301a-ba89-45ca-a40a-9230c7ec87f1",
   "metadata": {},
   "outputs": [],
   "source": [
    "next(k)"
   ]
  },
  {
   "cell_type": "code",
   "execution_count": null,
   "id": "380b2fcd-e0a9-462f-8f55-f1f5a9db2620",
   "metadata": {},
   "outputs": [],
   "source": [
    "next(k)"
   ]
  },
  {
   "cell_type": "code",
   "execution_count": null,
   "id": "a0476ad7-097a-4b44-a398-4deda93feb80",
   "metadata": {},
   "outputs": [],
   "source": [
    "next(k)"
   ]
  },
  {
   "cell_type": "code",
   "execution_count": null,
   "id": "567a4bac-5f8d-484e-84a1-8b6e82fe82b0",
   "metadata": {},
   "outputs": [],
   "source": [
    "next(k)"
   ]
  },
  {
   "cell_type": "code",
   "execution_count": null,
   "id": "86e0b563-c545-4eab-ab66-131b9c7a1250",
   "metadata": {},
   "outputs": [],
   "source": [
    "#6.Write a generator function in python that yields the powers of 2 upto a given exponent\n",
    "def sq_num(a):\n",
    "    for i in range(a):\n",
    "        yield (i**2)\n",
    "s=sq_num(5)\n",
    "next(s)\n",
    "        "
   ]
  },
  {
   "cell_type": "code",
   "execution_count": null,
   "id": "7870db57-bdca-4863-9f93-f398be4b3a57",
   "metadata": {},
   "outputs": [],
   "source": [
    "next(s)"
   ]
  },
  {
   "cell_type": "code",
   "execution_count": null,
   "id": "66f03772-711c-43bb-9076-08a251c5e0d4",
   "metadata": {},
   "outputs": [],
   "source": [
    "next(s)"
   ]
  },
  {
   "cell_type": "code",
   "execution_count": null,
   "id": "c07a2a5d-397b-4cf0-b479-fc32f3367659",
   "metadata": {},
   "outputs": [],
   "source": [
    "next(s)"
   ]
  },
  {
   "cell_type": "code",
   "execution_count": null,
   "id": "e126b347-436d-4be4-a5e7-2e4ebae9801a",
   "metadata": {},
   "outputs": [],
   "source": [
    "next(s)"
   ]
  },
  {
   "cell_type": "code",
   "execution_count": null,
   "id": "42c55806-0d36-4006-927c-0a1bee8fbc5a",
   "metadata": {},
   "outputs": [],
   "source": [
    "#7.Implement a generator function that reads a file line by line and yileds each line as a string\n",
    "#Not getting\n",
    "#8.Use a lambda function in python to sort a list of tuples based on the second elemenst of each tuples.\n",
    "tuples_list=((1,2),(11,24),(5,3),(33,21))\n",
    "\n",
    "sort_list=sorted(tuples_list, key=lambda x:x[1])\n",
    "\n",
    "print(sort_list)\n",
    "\n",
    "    \n",
    "    "
   ]
  },
  {
   "cell_type": "code",
   "execution_count": null,
   "id": "5c63667e-c360-483c-b200-d9e84de5ba1e",
   "metadata": {},
   "outputs": [],
   "source": [
    "#9.Write a python program tha uses map() to convert a list of temperature from celsius to fahrehneit\n",
    "\n",
    "def celsius_to_fahren(c):\n",
    "    \n",
    "    return (9/5)*c+32\n",
    "\n",
    "clesius=[10,20,30,40]\n",
    "\n",
    "a=list(map(celsius_to_fahren,clesius))\n",
    "print(a)\n",
    "   "
   ]
  },
  {
   "cell_type": "code",
   "execution_count": null,
   "id": "0873b033-65b0-4853-8333-42e75b8a1845",
   "metadata": {},
   "outputs": [],
   "source": [
    "c=[10,20,30,40]\n",
    "list(map(lambda x:(9/5)*x+32,c))"
   ]
  },
  {
   "cell_type": "code",
   "execution_count": 4,
   "id": "c6ab5c20-2281-4eaa-b7e0-cd28a217d456",
   "metadata": {},
   "outputs": [
    {
     "name": "stdout",
     "output_type": "stream",
     "text": [
      "dnsh\n"
     ]
    }
   ],
   "source": [
    "#10.Create a python program that uses filter() to remove all the vowels from agiven string\n",
    "def not_vowels(char):\n",
    "    return char.lower() not in 'aeiou'\n",
    "a=\"dinesh\"\n",
    "b=\"\".join(filter(not_vowels,a))\n",
    "print(b)\n",
    "\n",
    "\n"
   ]
  },
  {
   "cell_type": "code",
   "execution_count": 10,
   "id": "ff1552ea-2490-44d2-93f0-2d4668403268",
   "metadata": {},
   "outputs": [],
   "source": [
    "#11.Write a python program which returns a list with 2-tuples. each tuple consists of the order numbers and the product of the price per item  and the quantity.The product should be increased by 10,if the vakue of the order is smaller than 100,00.\n"
   ]
  },
  {
   "cell_type": "code",
   "execution_count": 11,
   "id": "b5b2d8f3-5896-4e5c-9424-c9ea56cec8ac",
   "metadata": {},
   "outputs": [
    {
     "name": "stdout",
     "output_type": "stream",
     "text": [
      "[(34587, 163.8), (98762, 284.0), (77226, 108.85000000000001), (88112, 84.97)]\n"
     ]
    }
   ],
   "source": [
    "orders=([34587,4,40.95],[98762,5,56.80],[77226,3,32.95],[88112,3,24.99])\n",
    "\n",
    "order_list=list(map(lambda order:(order[0],order[1]*order[2]+10 if order[1]*order[2] <100 else order[1]*order[2]),orders))\n",
    "print(order_list)\n"
   ]
  },
  {
   "cell_type": "code",
   "execution_count": null,
   "id": "4c2dad8c-995b-4590-b8d8-237ad880cdf8",
   "metadata": {},
   "outputs": [],
   "source": []
  },
  {
   "cell_type": "code",
   "execution_count": null,
   "id": "16abfe2a-80a9-4b2d-8bf4-029cede6031f",
   "metadata": {},
   "outputs": [],
   "source": []
  }
 ],
 "metadata": {
  "kernelspec": {
   "display_name": "Python 3 (ipykernel)",
   "language": "python",
   "name": "python3"
  },
  "language_info": {
   "codemirror_mode": {
    "name": "ipython",
    "version": 3
   },
   "file_extension": ".py",
   "mimetype": "text/x-python",
   "name": "python",
   "nbconvert_exporter": "python",
   "pygments_lexer": "ipython3",
   "version": "3.13.2"
  }
 },
 "nbformat": 4,
 "nbformat_minor": 5
}
